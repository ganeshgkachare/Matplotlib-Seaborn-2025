{
 "cells": [
  {
   "cell_type": "markdown",
   "id": "0fc64f28-de6c-4809-b151-9986cee6630c",
   "metadata": {},
   "source": [
    "# Seaborn"
   ]
  },
  {
   "cell_type": "markdown",
   "id": "69545cad-3933-4aa0-9b63-3e374ee687f4",
   "metadata": {},
   "source": [
    "- Seaborn is a Python data visualization library built on top of Matplotlib.\n",
    "- Seaborn provides a high-level interface for creating attractive and informative statistical graphics.\n",
    "- It simplifies complex visualizations and works seamlessly with Pandas data structures."
   ]
  },
  {
   "cell_type": "code",
   "execution_count": null,
   "id": "ca87372f-9d94-4d53-a849-1816850508a2",
   "metadata": {},
   "outputs": [],
   "source": [
    "# Matplotlib requires a lot of manual settings for styling, color, and labels.\n",
    "# Seaborn simplifies this with built-in functions that generate attractive plots with minimal code."
   ]
  },
  {
   "cell_type": "code",
   "execution_count": null,
   "id": "89ee38e0-f7db-4b98-9550-cb42c44df4c5",
   "metadata": {},
   "outputs": [],
   "source": []
  },
  {
   "cell_type": "code",
   "execution_count": 2,
   "id": "793aa9e4-39a9-4de5-81ef-a80eb03586b5",
   "metadata": {},
   "outputs": [],
   "source": [
    "# Import seaborn\n",
    "import seaborn as sns\n",
    "import matplotlib.pyplot as plt"
   ]
  },
  {
   "cell_type": "markdown",
   "id": "46f9baf2-2437-4611-8845-9398dc283551",
   "metadata": {},
   "source": [
    "### Loading data-set :sns.load_dataset()\n",
    "- Seaborn provides built-in sample datasets that can be easily loaded using the sns.load_dataset() function.\n",
    "- These datasets are useful for practice and testing different visualization techniques.\n",
    "- Example: \"tips\", \"iris\", \"penguins\", \"flights\", \"diamonds\", \"titanic\""
   ]
  },
  {
   "cell_type": "code",
   "execution_count": null,
   "id": "693562ab-9d24-440f-b234-01b1521effdd",
   "metadata": {},
   "outputs": [],
   "source": []
  },
  {
   "cell_type": "code",
   "execution_count": 3,
   "id": "12cf3d57-fb39-4367-82f6-447ae955053d",
   "metadata": {},
   "outputs": [
    {
     "data": {
      "text/html": [
       "<div>\n",
       "<style scoped>\n",
       "    .dataframe tbody tr th:only-of-type {\n",
       "        vertical-align: middle;\n",
       "    }\n",
       "\n",
       "    .dataframe tbody tr th {\n",
       "        vertical-align: top;\n",
       "    }\n",
       "\n",
       "    .dataframe thead th {\n",
       "        text-align: right;\n",
       "    }\n",
       "</style>\n",
       "<table border=\"1\" class=\"dataframe\">\n",
       "  <thead>\n",
       "    <tr style=\"text-align: right;\">\n",
       "      <th></th>\n",
       "      <th>total_bill</th>\n",
       "      <th>tip</th>\n",
       "      <th>sex</th>\n",
       "      <th>smoker</th>\n",
       "      <th>day</th>\n",
       "      <th>time</th>\n",
       "      <th>size</th>\n",
       "    </tr>\n",
       "  </thead>\n",
       "  <tbody>\n",
       "    <tr>\n",
       "      <th>0</th>\n",
       "      <td>16.99</td>\n",
       "      <td>1.01</td>\n",
       "      <td>Female</td>\n",
       "      <td>No</td>\n",
       "      <td>Sun</td>\n",
       "      <td>Dinner</td>\n",
       "      <td>2</td>\n",
       "    </tr>\n",
       "    <tr>\n",
       "      <th>1</th>\n",
       "      <td>10.34</td>\n",
       "      <td>1.66</td>\n",
       "      <td>Male</td>\n",
       "      <td>No</td>\n",
       "      <td>Sun</td>\n",
       "      <td>Dinner</td>\n",
       "      <td>3</td>\n",
       "    </tr>\n",
       "    <tr>\n",
       "      <th>2</th>\n",
       "      <td>21.01</td>\n",
       "      <td>3.50</td>\n",
       "      <td>Male</td>\n",
       "      <td>No</td>\n",
       "      <td>Sun</td>\n",
       "      <td>Dinner</td>\n",
       "      <td>3</td>\n",
       "    </tr>\n",
       "    <tr>\n",
       "      <th>3</th>\n",
       "      <td>23.68</td>\n",
       "      <td>3.31</td>\n",
       "      <td>Male</td>\n",
       "      <td>No</td>\n",
       "      <td>Sun</td>\n",
       "      <td>Dinner</td>\n",
       "      <td>2</td>\n",
       "    </tr>\n",
       "    <tr>\n",
       "      <th>4</th>\n",
       "      <td>24.59</td>\n",
       "      <td>3.61</td>\n",
       "      <td>Female</td>\n",
       "      <td>No</td>\n",
       "      <td>Sun</td>\n",
       "      <td>Dinner</td>\n",
       "      <td>4</td>\n",
       "    </tr>\n",
       "    <tr>\n",
       "      <th>...</th>\n",
       "      <td>...</td>\n",
       "      <td>...</td>\n",
       "      <td>...</td>\n",
       "      <td>...</td>\n",
       "      <td>...</td>\n",
       "      <td>...</td>\n",
       "      <td>...</td>\n",
       "    </tr>\n",
       "    <tr>\n",
       "      <th>239</th>\n",
       "      <td>29.03</td>\n",
       "      <td>5.92</td>\n",
       "      <td>Male</td>\n",
       "      <td>No</td>\n",
       "      <td>Sat</td>\n",
       "      <td>Dinner</td>\n",
       "      <td>3</td>\n",
       "    </tr>\n",
       "    <tr>\n",
       "      <th>240</th>\n",
       "      <td>27.18</td>\n",
       "      <td>2.00</td>\n",
       "      <td>Female</td>\n",
       "      <td>Yes</td>\n",
       "      <td>Sat</td>\n",
       "      <td>Dinner</td>\n",
       "      <td>2</td>\n",
       "    </tr>\n",
       "    <tr>\n",
       "      <th>241</th>\n",
       "      <td>22.67</td>\n",
       "      <td>2.00</td>\n",
       "      <td>Male</td>\n",
       "      <td>Yes</td>\n",
       "      <td>Sat</td>\n",
       "      <td>Dinner</td>\n",
       "      <td>2</td>\n",
       "    </tr>\n",
       "    <tr>\n",
       "      <th>242</th>\n",
       "      <td>17.82</td>\n",
       "      <td>1.75</td>\n",
       "      <td>Male</td>\n",
       "      <td>No</td>\n",
       "      <td>Sat</td>\n",
       "      <td>Dinner</td>\n",
       "      <td>2</td>\n",
       "    </tr>\n",
       "    <tr>\n",
       "      <th>243</th>\n",
       "      <td>18.78</td>\n",
       "      <td>3.00</td>\n",
       "      <td>Female</td>\n",
       "      <td>No</td>\n",
       "      <td>Thur</td>\n",
       "      <td>Dinner</td>\n",
       "      <td>2</td>\n",
       "    </tr>\n",
       "  </tbody>\n",
       "</table>\n",
       "<p>244 rows × 7 columns</p>\n",
       "</div>"
      ],
      "text/plain": [
       "     total_bill   tip     sex smoker   day    time  size\n",
       "0         16.99  1.01  Female     No   Sun  Dinner     2\n",
       "1         10.34  1.66    Male     No   Sun  Dinner     3\n",
       "2         21.01  3.50    Male     No   Sun  Dinner     3\n",
       "3         23.68  3.31    Male     No   Sun  Dinner     2\n",
       "4         24.59  3.61  Female     No   Sun  Dinner     4\n",
       "..          ...   ...     ...    ...   ...     ...   ...\n",
       "239       29.03  5.92    Male     No   Sat  Dinner     3\n",
       "240       27.18  2.00  Female    Yes   Sat  Dinner     2\n",
       "241       22.67  2.00    Male    Yes   Sat  Dinner     2\n",
       "242       17.82  1.75    Male     No   Sat  Dinner     2\n",
       "243       18.78  3.00  Female     No  Thur  Dinner     2\n",
       "\n",
       "[244 rows x 7 columns]"
      ]
     },
     "execution_count": 3,
     "metadata": {},
     "output_type": "execute_result"
    }
   ],
   "source": [
    "sns.load_dataset(\"tips\")"
   ]
  },
  {
   "cell_type": "code",
   "execution_count": 5,
   "id": "f7a63d03-556a-4903-a4a8-18d13efc3144",
   "metadata": {},
   "outputs": [],
   "source": [
    "import pandas as pd"
   ]
  },
  {
   "cell_type": "code",
   "execution_count": null,
   "id": "945b3e0e-cdb8-41c3-8165-d3b95eb3265d",
   "metadata": {},
   "outputs": [],
   "source": []
  },
  {
   "cell_type": "code",
   "execution_count": 6,
   "id": "4cc032a9-42b7-4619-941d-e02a4a7abf3a",
   "metadata": {},
   "outputs": [],
   "source": [
    "# Load the dataset\n",
    "tips = sns.load_dataset(\"tips\")"
   ]
  },
  {
   "cell_type": "code",
   "execution_count": 7,
   "id": "5e0de997-8a00-4592-b74a-ada1b260116d",
   "metadata": {},
   "outputs": [
    {
     "data": {
      "text/html": [
       "<div>\n",
       "<style scoped>\n",
       "    .dataframe tbody tr th:only-of-type {\n",
       "        vertical-align: middle;\n",
       "    }\n",
       "\n",
       "    .dataframe tbody tr th {\n",
       "        vertical-align: top;\n",
       "    }\n",
       "\n",
       "    .dataframe thead th {\n",
       "        text-align: right;\n",
       "    }\n",
       "</style>\n",
       "<table border=\"1\" class=\"dataframe\">\n",
       "  <thead>\n",
       "    <tr style=\"text-align: right;\">\n",
       "      <th></th>\n",
       "      <th>total_bill</th>\n",
       "      <th>tip</th>\n",
       "      <th>sex</th>\n",
       "      <th>smoker</th>\n",
       "      <th>day</th>\n",
       "      <th>time</th>\n",
       "      <th>size</th>\n",
       "    </tr>\n",
       "  </thead>\n",
       "  <tbody>\n",
       "    <tr>\n",
       "      <th>0</th>\n",
       "      <td>16.99</td>\n",
       "      <td>1.01</td>\n",
       "      <td>Female</td>\n",
       "      <td>No</td>\n",
       "      <td>Sun</td>\n",
       "      <td>Dinner</td>\n",
       "      <td>2</td>\n",
       "    </tr>\n",
       "    <tr>\n",
       "      <th>1</th>\n",
       "      <td>10.34</td>\n",
       "      <td>1.66</td>\n",
       "      <td>Male</td>\n",
       "      <td>No</td>\n",
       "      <td>Sun</td>\n",
       "      <td>Dinner</td>\n",
       "      <td>3</td>\n",
       "    </tr>\n",
       "  </tbody>\n",
       "</table>\n",
       "</div>"
      ],
      "text/plain": [
       "   total_bill   tip     sex smoker  day    time  size\n",
       "0       16.99  1.01  Female     No  Sun  Dinner     2\n",
       "1       10.34  1.66    Male     No  Sun  Dinner     3"
      ]
     },
     "execution_count": 7,
     "metadata": {},
     "output_type": "execute_result"
    }
   ],
   "source": [
    "tips.head(2)"
   ]
  },
  {
   "cell_type": "code",
   "execution_count": 8,
   "id": "7a002d93-9587-4f95-a0d6-aab01ab95f13",
   "metadata": {},
   "outputs": [
    {
     "data": {
      "text/plain": [
       "['Sun', 'Sat', 'Thur', 'Fri']\n",
       "Categories (4, object): ['Thur', 'Fri', 'Sat', 'Sun']"
      ]
     },
     "execution_count": 8,
     "metadata": {},
     "output_type": "execute_result"
    }
   ],
   "source": [
    "tips[\"day\"].unique()"
   ]
  },
  {
   "cell_type": "code",
   "execution_count": null,
   "id": "9463bbcf-fe55-47a6-907d-1c3289251e3b",
   "metadata": {},
   "outputs": [],
   "source": [
    "sun=\n",
    "sat=\n",
    "thur=\n",
    "fri="
   ]
  },
  {
   "cell_type": "code",
   "execution_count": null,
   "id": "43720a37-0e7d-4fd0-8776-b620c9f160de",
   "metadata": {},
   "outputs": [],
   "source": [
    "sun_male=\n",
    "sat_male=\n",
    "thur_male=\n",
    "fri_male=\n",
    "\n",
    "sun_female=\n",
    "sat_female=\n",
    "thur_female=\n",
    "fri_female="
   ]
  },
  {
   "cell_type": "code",
   "execution_count": 11,
   "id": "63f204d3-014a-4a89-839e-3be98b5eea15",
   "metadata": {},
   "outputs": [
    {
     "data": {
      "image/png": "[encoded data removed]",
      "text/plain": [
       "<Figure size 432x288 with 1 Axes>"
      ]
     },
     "metadata": {
      "needs_background": "light"
     },
     "output_type": "display_data"
    }
   ],
   "source": [
    "# Box Plot: sns.boxplot()\n",
    "\n",
    "sns.boxplot( data=tips, x=\"day\", y=\"total_bill\" )\n",
    "plt.title(\"Total Bill Distribution by Day\")\n",
    "plt.show()\n"
   ]
  },
  {
   "cell_type": "code",
   "execution_count": null,
   "id": "5183ea83-ba90-47b7-98e4-5819d4aa4372",
   "metadata": {},
   "outputs": [],
   "source": [
    "# hue parameter:used to introduce a third categorical variable, allowing comparisons between subgroups within each category of the x variable. "
   ]
  },
  {
   "cell_type": "code",
   "execution_count": null,
   "id": "2aee5bb5-bb0a-4ec6-b551-e81f92984ad9",
   "metadata": {},
   "outputs": [],
   "source": [
    "sns.graph_name(data=Input dataframe,\n",
    "              x=x-axis variable,\n",
    "              y=y-axis variable,\n",
    "              hue= Introduce variation of third/ other than defined cat variable)"
   ]
  },
  {
   "cell_type": "code",
   "execution_count": 12,
   "id": "e2197ab8-1d6b-408f-9d6e-fd123d264e4e",
   "metadata": {},
   "outputs": [
    {
     "data": {
      "image/png": "[encoded data removed]",
      "text/plain": [
       "<Figure size 720x360 with 1 Axes>"
      ]
     },
     "metadata": {
      "needs_background": "light"
     },
     "output_type": "display_data"
    }
   ],
   "source": [
    "# Box Plot: sns.boxplot()\n",
    "plt.figure(figsize=(10,5))\n",
    "sns.boxplot(x=\"day\", y=\"total_bill\", hue=\"sex\", data=tips)\n",
    "plt.title(\"Total Bill Distribution by Day and Gender\")\n",
    "plt.show()\n"
   ]
  },
  {
   "cell_type": "code",
   "execution_count": 13,
   "id": "51369d66-7f10-4748-8f73-ee957361b84f",
   "metadata": {},
   "outputs": [
    {
     "data": {
      "image/png": "[encoded data removed]",
      "text/plain": [
       "<Figure size 720x360 with 1 Axes>"
      ]
     },
     "metadata": {
      "needs_background": "light"
     },
     "output_type": "display_data"
    }
   ],
   "source": [
    "# Box Plot: sns.boxplot()\n",
    "plt.figure(figsize=(10,5))\n",
    "sns.boxplot(x=\"day\", y=\"total_bill\", hue=\"size\", data=tips)\n",
    "plt.title(\"Total Bill Distribution by Day and Gender\")\n",
    "plt.show()"
   ]
  },
  {
   "cell_type": "code",
   "execution_count": 15,
   "id": "3a5eecbe-9025-4e77-ba34-1577af287b83",
   "metadata": {},
   "outputs": [
    {
     "data": {
      "text/plain": [
       "array([2, 3, 4, 1, 6, 5], dtype=int64)"
      ]
     },
     "execution_count": 15,
     "metadata": {},
     "output_type": "execute_result"
    }
   ],
   "source": [
    "tips[\"size\"].unique()"
   ]
  },
  {
   "cell_type": "code",
   "execution_count": null,
   "id": "6fe855b9-8201-4efe-a625-b42080f2e9c9",
   "metadata": {},
   "outputs": [],
   "source": [
    "d1  ==>Total bill used\n",
    "d2\n",
    "d3\n",
    "d4"
   ]
  },
  {
   "cell_type": "code",
   "execution_count": null,
   "id": "1e45d366-8a81-46ca-985d-fa5d800ca7b7",
   "metadata": {},
   "outputs": [],
   "source": []
  },
  {
   "cell_type": "code",
   "execution_count": null,
   "id": "a5052275-c8ca-4354-adee-c3bd0d7ffdc3",
   "metadata": {},
   "outputs": [],
   "source": []
  },
  {
   "cell_type": "code",
   "execution_count": 16,
   "id": "f8f8a2d1-7bd4-418d-ba25-0702f1f77bcd",
   "metadata": {},
   "outputs": [
    {
     "data": {
      "text/html": [
       "<div>\n",
       "<style scoped>\n",
       "    .dataframe tbody tr th:only-of-type {\n",
       "        vertical-align: middle;\n",
       "    }\n",
       "\n",
       "    .dataframe tbody tr th {\n",
       "        vertical-align: top;\n",
       "    }\n",
       "\n",
       "    .dataframe thead th {\n",
       "        text-align: right;\n",
       "    }\n",
       "</style>\n",
       "<table border=\"1\" class=\"dataframe\">\n",
       "  <thead>\n",
       "    <tr style=\"text-align: right;\">\n",
       "      <th></th>\n",
       "      <th>total_bill</th>\n",
       "      <th>tip</th>\n",
       "      <th>sex</th>\n",
       "      <th>smoker</th>\n",
       "      <th>day</th>\n",
       "      <th>time</th>\n",
       "      <th>size</th>\n",
       "    </tr>\n",
       "  </thead>\n",
       "  <tbody>\n",
       "    <tr>\n",
       "      <th>0</th>\n",
       "      <td>16.99</td>\n",
       "      <td>1.01</td>\n",
       "      <td>Female</td>\n",
       "      <td>No</td>\n",
       "      <td>Sun</td>\n",
       "      <td>Dinner</td>\n",
       "      <td>2</td>\n",
       "    </tr>\n",
       "    <tr>\n",
       "      <th>1</th>\n",
       "      <td>10.34</td>\n",
       "      <td>1.66</td>\n",
       "      <td>Male</td>\n",
       "      <td>No</td>\n",
       "      <td>Sun</td>\n",
       "      <td>Dinner</td>\n",
       "      <td>3</td>\n",
       "    </tr>\n",
       "    <tr>\n",
       "      <th>2</th>\n",
       "      <td>21.01</td>\n",
       "      <td>3.50</td>\n",
       "      <td>Male</td>\n",
       "      <td>No</td>\n",
       "      <td>Sun</td>\n",
       "      <td>Dinner</td>\n",
       "      <td>3</td>\n",
       "    </tr>\n",
       "    <tr>\n",
       "      <th>3</th>\n",
       "      <td>23.68</td>\n",
       "      <td>3.31</td>\n",
       "      <td>Male</td>\n",
       "      <td>No</td>\n",
       "      <td>Sun</td>\n",
       "      <td>Dinner</td>\n",
       "      <td>2</td>\n",
       "    </tr>\n",
       "    <tr>\n",
       "      <th>4</th>\n",
       "      <td>24.59</td>\n",
       "      <td>3.61</td>\n",
       "      <td>Female</td>\n",
       "      <td>No</td>\n",
       "      <td>Sun</td>\n",
       "      <td>Dinner</td>\n",
       "      <td>4</td>\n",
       "    </tr>\n",
       "    <tr>\n",
       "      <th>...</th>\n",
       "      <td>...</td>\n",
       "      <td>...</td>\n",
       "      <td>...</td>\n",
       "      <td>...</td>\n",
       "      <td>...</td>\n",
       "      <td>...</td>\n",
       "      <td>...</td>\n",
       "    </tr>\n",
       "    <tr>\n",
       "      <th>239</th>\n",
       "      <td>29.03</td>\n",
       "      <td>5.92</td>\n",
       "      <td>Male</td>\n",
       "      <td>No</td>\n",
       "      <td>Sat</td>\n",
       "      <td>Dinner</td>\n",
       "      <td>3</td>\n",
       "    </tr>\n",
       "    <tr>\n",
       "      <th>240</th>\n",
       "      <td>27.18</td>\n",
       "      <td>2.00</td>\n",
       "      <td>Female</td>\n",
       "      <td>Yes</td>\n",
       "      <td>Sat</td>\n",
       "      <td>Dinner</td>\n",
       "      <td>2</td>\n",
       "    </tr>\n",
       "    <tr>\n",
       "      <th>241</th>\n",
       "      <td>22.67</td>\n",
       "      <td>2.00</td>\n",
       "      <td>Male</td>\n",
       "      <td>Yes</td>\n",
       "      <td>Sat</td>\n",
       "      <td>Dinner</td>\n",
       "      <td>2</td>\n",
       "    </tr>\n",
       "    <tr>\n",
       "      <th>242</th>\n",
       "      <td>17.82</td>\n",
       "      <td>1.75</td>\n",
       "      <td>Male</td>\n",
       "      <td>No</td>\n",
       "      <td>Sat</td>\n",
       "      <td>Dinner</td>\n",
       "      <td>2</td>\n",
       "    </tr>\n",
       "    <tr>\n",
       "      <th>243</th>\n",
       "      <td>18.78</td>\n",
       "      <td>3.00</td>\n",
       "      <td>Female</td>\n",
       "      <td>No</td>\n",
       "      <td>Thur</td>\n",
       "      <td>Dinner</td>\n",
       "      <td>2</td>\n",
       "    </tr>\n",
       "  </tbody>\n",
       "</table>\n",
       "<p>244 rows × 7 columns</p>\n",
       "</div>"
      ],
      "text/plain": [
       "     total_bill   tip     sex smoker   day    time  size\n",
       "0         16.99  1.01  Female     No   Sun  Dinner     2\n",
       "1         10.34  1.66    Male     No   Sun  Dinner     3\n",
       "2         21.01  3.50    Male     No   Sun  Dinner     3\n",
       "3         23.68  3.31    Male     No   Sun  Dinner     2\n",
       "4         24.59  3.61  Female     No   Sun  Dinner     4\n",
       "..          ...   ...     ...    ...   ...     ...   ...\n",
       "239       29.03  5.92    Male     No   Sat  Dinner     3\n",
       "240       27.18  2.00  Female    Yes   Sat  Dinner     2\n",
       "241       22.67  2.00    Male    Yes   Sat  Dinner     2\n",
       "242       17.82  1.75    Male     No   Sat  Dinner     2\n",
       "243       18.78  3.00  Female     No  Thur  Dinner     2\n",
       "\n",
       "[244 rows x 7 columns]"
      ]
     },
     "execution_count": 16,
     "metadata": {},
     "output_type": "execute_result"
    }
   ],
   "source": [
    "tips"
   ]
  },
  {
   "cell_type": "code",
   "execution_count": null,
   "id": "49c29286-f4a3-43ee-a024-f5ae2d0586d6",
   "metadata": {},
   "outputs": [],
   "source": [
    "# Scatter Plot \n",
    "# Correlation Between Two Variables\n",
    "# Used to identify relationships between numerical variables.\n",
    "\n",
    "\n",
    "sns.scatterplot(x=\"total_bill\", y=\"tip\", data=tips)\n",
    "plt.title(\"Total Bill vs. Tip Amount\")\n",
    "plt.show()\n"
   ]
  },
  {
   "cell_type": "code",
   "execution_count": null,
   "id": "e411f7ea-d23b-49be-851d-2b938ebd55dd",
   "metadata": {},
   "outputs": [],
   "source": [
    "\n",
    "sns.scatterplot(x=\"total_bill\", y=\"tip\", hue=\"sex\", data=tips)\n",
    "plt.title(\"Total Bill vs. Tip Amount\")\n",
    "plt.show()\n"
   ]
  },
  {
   "cell_type": "code",
   "execution_count": null,
   "id": "f13f849d-1173-42a1-939e-d6c581bea509",
   "metadata": {},
   "outputs": [],
   "source": [
    "\n",
    "sns.scatterplot(x=\"total_bill\", y=\"tip\", hue=\"size\",data=tips)\n",
    "plt.title(\"Total Bill vs. Tip Amount\")\n",
    "plt.show()\n"
   ]
  },
  {
   "cell_type": "code",
   "execution_count": null,
   "id": "071c79b6-2d6a-4ebb-9532-b810d421883b",
   "metadata": {},
   "outputs": [],
   "source": [
    "\n",
    "sns.scatterplot(x=\"total_bill\", y=\"tip\", hue=\"sex\", size=\"size\", data=tips)\n",
    "plt.title(\"Total Bill vs. Tip Amount\")\n",
    "plt.show()\n"
   ]
  },
  {
   "cell_type": "code",
   "execution_count": null,
   "id": "a7689180-c407-4a42-9348-adb558acbeb8",
   "metadata": {},
   "outputs": [],
   "source": [
    "###############\n",
    "\n",
    "\n",
    "################\n",
    "\n",
    "###############\n",
    "\n",
    "\n",
    "################\n",
    "###############\n",
    "\n",
    "\n",
    "################\n",
    "###############\n",
    "\n",
    "\n",
    "################\n",
    "###############\n",
    "\n",
    "\n",
    "################\n"
   ]
  },
  {
   "cell_type": "code",
   "execution_count": null,
   "id": "93fbe8de-2770-422f-8560-ee7e9da88ef7",
   "metadata": {},
   "outputs": [],
   "source": [
    "sns.lineplot( data=tips,x=\"day\", y=\"total_bill\",)"
   ]
  },
  {
   "cell_type": "code",
   "execution_count": null,
   "id": "d02eac8a-701f-4249-a096-19fe5582cf8e",
   "metadata": {},
   "outputs": [],
   "source": [
    "sns.lineplot(x=\"size\", y=\"total_bill\", data=tips)"
   ]
  },
  {
   "cell_type": "code",
   "execution_count": null,
   "id": "b61bce78-8ba0-4bdb-b0b0-b285b403ce3f",
   "metadata": {},
   "outputs": [],
   "source": [
    "# Create a line plot\n",
    "sns.lineplot(x=\"size\", y=\"total_bill\", data=tips)\n",
    "\n",
    "# Title and labels\n",
    "plt.title(\"Total Bill by Party Size\")\n",
    "plt.xlabel(\"Party Size\")\n",
    "plt.ylabel(\"Total Bill ($)\")\n",
    "plt.show()"
   ]
  },
  {
   "cell_type": "code",
   "execution_count": null,
   "id": "ce240e75-fd23-422a-8623-77a15cee1428",
   "metadata": {},
   "outputs": [],
   "source": [
    "# 2. Bar Plot (Aggregated Data Representation)\n",
    "# Shows the average value of a numerical variable grouped by a categorical variable.\n",
    "\n",
    "\n",
    "sns.barplot(x=\"day\", y=\"total_bill\", hue=\"sex\", data=tips)\n",
    "plt.title(\"Average Total Bill by Day and Gender\")\n",
    "plt.show()\n",
    "x=\"day\",# → Groups by day\n",
    "y=\"total_bill\",# → Shows the average total bill\n",
    "hue=\"sex\",# → Compares male vs. female customers"
   ]
  },
  {
   "cell_type": "code",
   "execution_count": null,
   "id": "a7da29dd-817f-4b7e-8e3f-006259def106",
   "metadata": {},
   "outputs": [],
   "source": [
    "# 2. Bar Plot (Aggregated Data Representation)\n",
    "# Shows the average value of a numerical variable grouped by a categorical variable.\n",
    "\n",
    "\n",
    "sns.barplot(x=\"day\", y=\"total_bill\", hue=\"sex\", data=tips)\n",
    "plt.title(\"Average Total Bill by Day and Gender\")\n",
    "plt.show()\n",
    "x=\"day\",# → Groups by day\n",
    "y=\"total_bill\",# → Shows the average total bill\n",
    "hue=\"sex\",# → Compares male vs. female customers"
   ]
  },
  {
   "cell_type": "code",
   "execution_count": null,
   "id": "e7c578b6-5776-4469-b918-1bd82977d535",
   "metadata": {},
   "outputs": [],
   "source": []
  },
  {
   "cell_type": "code",
   "execution_count": null,
   "id": "18149ef2-5620-4995-8d85-39967c95b050",
   "metadata": {},
   "outputs": [],
   "source": [
    "3. Count Plot (Category Distribution)\n",
    "Shows the count of occurrences for each category.\n",
    "\n",
    "\n",
    "sns.countplot(x=\"day\", hue=\"smoker\", data=tips)\n",
    "plt.title(\"Count of Customers by Day and Smoking Status\")\n",
    "plt.show()\n",
    "Useful for seeing how many customers visited on each day and how many were smokers."
   ]
  },
  {
   "cell_type": "code",
   "execution_count": null,
   "id": "547ad214-fd83-46c5-991a-08ae5fb5a830",
   "metadata": {},
   "outputs": [],
   "source": [
    "5. Violin Plot (Distribution + KDE)\n",
    "Combines box plot and KDE (Kernel Density Estimate) to show distribution.\n",
    "\n",
    "\n",
    "sns.violinplot(x=\"day\", y=\"total_bill\", hue=\"sex\", split=True, data=tips)\n",
    "plt.title(\"Total Bill Distribution by Day and Gender\")\n",
    "plt.show()\n",
    "Similar to a box plot but shows density variations.\n",
    "split=True makes it easier to compare distributions.\n",
    "Numerical Plots (Used for Continuous Data)\n",
    "These plots show relationships between numerical variables."
   ]
  },
  {
   "cell_type": "code",
   "execution_count": null,
   "id": "1e39ff31-dbd4-45f1-8c78-60e856da611d",
   "metadata": {},
   "outputs": [],
   "source": []
  },
  {
   "cell_type": "code",
   "execution_count": null,
   "id": "7d367885-0c5d-4efe-8646-a5597422e9ad",
   "metadata": {},
   "outputs": [],
   "source": [
    "7. Line Plot (Trends Over Data Points)\n",
    "Used when the data has an inherent order.\n",
    "\n",
    "\n",
    "sns.lineplot(x=\"size\", y=\"total_bill\", hue=\"sex\", data=tips)\n",
    "plt.title(\"Total Bill by Party Size and Gender\")\n",
    "plt.show()\n",
    "Shows how bill amount changes with party size.\n",
    "Statistical and Distribution Plots\n",
    "These plots help in understanding the distribution and spread of numerical data."
   ]
  },
  {
   "cell_type": "code",
   "execution_count": null,
   "id": "a8f9b68e-c430-41f3-b54e-9403eafd7bc1",
   "metadata": {},
   "outputs": [],
   "source": [
    "8. Histogram (Data Distribution)\n",
    "Shows how data is distributed across different ranges.\n",
    "\n",
    "\n",
    "sns.histplot(tips[\"total_bill\"], bins=20, kde=True)\n",
    "plt.title(\"Total Bill Distribution\")\n",
    "plt.show()\n",
    "bins=20 sets the number of bins (ranges).\n",
    "kde=True overlays a smooth distribution curve."
   ]
  },
  {
   "cell_type": "code",
   "execution_count": null,
   "id": "66b6e609-aca0-4752-beae-1b4c3e02c118",
   "metadata": {},
   "outputs": [],
   "source": [
    "9. KDE Plot (Smoothed Distribution)\n",
    "Used for estimating the probability density function.\n",
    "\n",
    "\n",
    "sns.kdeplot(x=\"total_bill\", hue=\"sex\", fill=True, data=tips)\n",
    "plt.title(\"KDE Plot of Total Bill by Gender\")\n",
    "plt.show()\n",
    "Smooth alternative to a histogram."
   ]
  },
  {
   "cell_type": "code",
   "execution_count": null,
   "id": "21c1e9b4-928b-4114-971c-de293c4099cb",
   "metadata": {},
   "outputs": [],
   "source": [
    "10. Pair Plot (Multiple Relationships in One)\n",
    "Shows scatter plots and histograms for all numerical variables.\n",
    "\n",
    "\n",
    "sns.pairplot(tips, hue=\"sex\")\n",
    "plt.show()\n",
    "Helps visualize relationships between all numerical columns."
   ]
  },
  {
   "cell_type": "code",
   "execution_count": null,
   "id": "8c86a997-4e13-47eb-90f0-fc0197476954",
   "metadata": {},
   "outputs": [],
   "source": [
    "11. Heatmap (Correlation Matrix)\n",
    "Shows correlations between numerical variables.\n",
    "\n",
    "\n",
    "import numpy as np\n",
    "\n",
    "# Compute correlation matrix\n",
    "corr = tips.corr(numeric_only=True)\n",
    "\n",
    "# Plot heatmap\n",
    "sns.heatmap(corr, annot=True, cmap=\"coolwarm\", fmt=\".2f\")\n",
    "plt.title(\"Correlation Heatmap\")\n",
    "plt.show()\n",
    "Shows how strongly numerical variables are related."
   ]
  },
  {
   "cell_type": "code",
   "execution_count": null,
   "id": "6dd4e949-7b4b-4753-911b-747c8d58d97c",
   "metadata": {},
   "outputs": [],
   "source": [
    "12. Regression Plot (Linear Relationship)\n",
    "Shows the best-fit line for a relationship.\n",
    "\n",
    "\n",
    "sns.regplot(x=\"total_bill\", y=\"tip\", data=tips)\n",
    "plt.title(\"Regression Plot: Total Bill vs. Tip\")\n",
    "plt.show()\n",
    "Displays the trend between total_bill and tip along with a regression line."
   ]
  },
  {
   "cell_type": "code",
   "execution_count": null,
   "id": "5bf925a4-3b94-4ae5-b597-2a75c39b67a4",
   "metadata": {},
   "outputs": [],
   "source": [
    "13. Facet Grid (Multiple Small Plots)\n",
    "Allows you to plot multiple subplots based on a categorical variable.\n",
    "\n",
    "\n",
    "g = sns.FacetGrid(tips, col=\"sex\", hue=\"smoker\")\n",
    "g.map_dataframe(sns.scatterplot, x=\"total_bill\", y=\"tip\")\n",
    "g.add_legend()\n",
    "plt.show()\n",
    "Creates separate plots for male and female customers.\n",
    "Conclusion\n",
    "We have explored various Seaborn plots using the tips dataset, covering categorical, numerical, statistical, and relationship-based visualizations."
   ]
  },
  {
   "cell_type": "code",
   "execution_count": null,
   "id": "15d3bfa8-7570-4f7e-aa69-d6f87fd6f76e",
   "metadata": {},
   "outputs": [],
   "source": [
    "iris"
   ]
  },
  {
   "cell_type": "code",
   "execution_count": null,
   "id": "fc9e0484-58ce-4562-97b3-01eea3905ff9",
   "metadata": {},
   "outputs": [],
   "source": [
    "sns.scatterplot(x = iris.sepal_length , y = iris.sepal_width)"
   ]
  },
  {
   "cell_type": "code",
   "execution_count": null,
   "id": "231ba320-e9d4-4778-b7bb-5c1a6988c86c",
   "metadata": {},
   "outputs": [],
   "source": [
    "sns.scatterplot(x = iris.sepal_length , y = iris.petal_length)"
   ]
  },
  {
   "cell_type": "code",
   "execution_count": null,
   "id": "d7764bd7-7f04-4536-bdf2-903ddb1003db",
   "metadata": {},
   "outputs": [],
   "source": [
    "sns.displot(iris['sepal_length'])"
   ]
  },
  {
   "cell_type": "code",
   "execution_count": null,
   "id": "32954d72-668a-4f4a-b4d4-7e4090561e65",
   "metadata": {},
   "outputs": [],
   "source": [
    "tips = sns.load_dataset('tips')"
   ]
  },
  {
   "cell_type": "code",
   "execution_count": null,
   "id": "319f4fa9-47cd-457b-81b4-d9082f4b861e",
   "metadata": {},
   "outputs": [],
   "source": [
    "tips"
   ]
  },
  {
   "cell_type": "code",
   "execution_count": null,
   "id": "1a9a4d92-58c7-4c64-86c4-aacd51401be3",
   "metadata": {},
   "outputs": [],
   "source": [
    "sns.scatterplot(x = tips.total_bill , y = tips.tip)"
   ]
  },
  {
   "cell_type": "code",
   "execution_count": null,
   "id": "cc806bd8-2cea-4094-8783-b95bb0c3dc82",
   "metadata": {},
   "outputs": [],
   "source": [
    "tips.head()"
   ]
  },
  {
   "cell_type": "code",
   "execution_count": null,
   "id": "056c94a9-44d7-4923-89d3-694d567179bc",
   "metadata": {},
   "outputs": [],
   "source": [
    "tips['smoker'].value_counts()"
   ]
  },
  {
   "cell_type": "code",
   "execution_count": null,
   "id": "b5a7d6bc-9676-45cf-80c7-2cf8ec7f0a22",
   "metadata": {},
   "outputs": [],
   "source": [
    "tips['size'].value_counts()"
   ]
  },
  {
   "cell_type": "code",
   "execution_count": null,
   "id": "335ebd72-a945-4103-9ff9-351df405143d",
   "metadata": {},
   "outputs": [],
   "source": [
    "sns.relplot(x = tips.total_bill , y = tips.tip , data = tips,hue = 'smoker' )"
   ]
  },
  {
   "cell_type": "code",
   "execution_count": null,
   "id": "3b4b65a7-c8b7-4ade-988d-78a3a791b452",
   "metadata": {},
   "outputs": [],
   "source": [
    "sns.relplot(x = tips.total_bill , y = tips.tip , data = tips,hue = 'size' )"
   ]
  },
  {
   "cell_type": "code",
   "execution_count": null,
   "id": "26918882-05de-4349-906f-18a74b9f4811",
   "metadata": {},
   "outputs": [],
   "source": [
    "sns.relplot(x = tips.total_bill , y = tips.tip , data = tips,style=  'size' )"
   ]
  },
  {
   "cell_type": "code",
   "execution_count": null,
   "id": "f726d5f0-31ff-458f-9803-d9336d018e02",
   "metadata": {},
   "outputs": [],
   "source": [
    "sns.relplot(x = tips.total_bill , y = tips.tip , data = tips,style=  'size',hue = 'time' )"
   ]
  },
  {
   "cell_type": "code",
   "execution_count": null,
   "id": "b00ff73c-e525-4384-acfc-2b81a3871ffb",
   "metadata": {},
   "outputs": [],
   "source": [
    "tips"
   ]
  },
  {
   "cell_type": "code",
   "execution_count": null,
   "id": "527b523a-9c45-4df4-9cff-5c3a1d2f6206",
   "metadata": {},
   "outputs": [],
   "source": [
    "sns.catplot(x = 'day' , y = 'total_bill' , data = tips )"
   ]
  },
  {
   "cell_type": "code",
   "execution_count": null,
   "id": "69f28acf",
   "metadata": {},
   "outputs": [],
   "source": [
    "tips"
   ]
  },
  {
   "cell_type": "code",
   "execution_count": null,
   "id": "bcb870f7-34b1-4240-83fb-8d88c9adce2b",
   "metadata": {},
   "outputs": [],
   "source": [
    "sns.catplot(x = 'smoker' , y = 'tip' , data = tips )"
   ]
  },
  {
   "cell_type": "code",
   "execution_count": null,
   "id": "5b1306f8-f424-47a8-93bc-9d885303dec4",
   "metadata": {},
   "outputs": [],
   "source": [
    "sns.jointplot(x = tips.total_bill , y = tips.tip)"
   ]
  },
  {
   "cell_type": "code",
   "execution_count": null,
   "id": "e49700b6-a2aa-47d9-992a-d01272a4c3f6",
   "metadata": {},
   "outputs": [],
   "source": [
    "sns.pairplot(tips)"
   ]
  },
  {
   "cell_type": "code",
   "execution_count": null,
   "id": "9eda461e-ad2a-43f3-b538-2ab6469f4481",
   "metadata": {},
   "outputs": [],
   "source": [
    "sns.pairplot(iris)"
   ]
  },
  {
   "cell_type": "code",
   "execution_count": null,
   "id": "4ac9d170-3903-40be-9d5f-b55921a6c212",
   "metadata": {},
   "outputs": [],
   "source": []
  },
  {
   "cell_type": "code",
   "execution_count": null,
   "id": "17f63f98",
   "metadata": {},
   "outputs": [],
   "source": []
  },
  {
   "cell_type": "code",
   "execution_count": null,
   "id": "af5e94e8",
   "metadata": {},
   "outputs": [],
   "source": []
  }
 ],
 "metadata": {
  "kernelspec": {
   "display_name": "Python 3 (ipykernel)",
   "language": "python",
   "name": "python3"
  },
  "language_info": {
   "codemirror_mode": {
    "name": "ipython",
    "version": 3
   },
   "file_extension": ".py",
   "mimetype": "text/x-python",
   "name": "python",
   "nbconvert_exporter": "python",
   "pygments_lexer": "ipython3",
   "version": "3.9.7"
  }
 },
 "nbformat": 4,
 "nbformat_minor": 5
}
