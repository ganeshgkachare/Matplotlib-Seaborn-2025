{
 "cells": [
  {
   "cell_type": "code",
   "execution_count": 1,
   "id": "dab66f56-0302-4ee9-aae1-4d3c91563046",
   "metadata": {},
   "outputs": [],
   "source": [
    "import matplotlib.pyplot as plt\n",
    "import numpy as np\n"
   ]
  },
  {
   "cell_type": "markdown",
   "id": "e0528bc9-f46c-46e5-b888-dcd34b5a23c1",
   "metadata": {},
   "source": [
    "### 7) Box Plot: plt.boxplot()\n",
    "#### When to Use:\n",
    "- Summary statistics for a continuous dataset.\n",
    "- Comparing the spread and outliers across different groups or datasets.\n",
    "#### Data:\n",
    "- Continuous dataset (no specific axis as it summarizes data).\n",
    "#### What It Denotes:\n",
    "- The distribution of data: median, quartiles, and outliers.\n",
    "- The spread of data, including any outliers.\n",
    "#### Example Use Case:\n",
    "- Visualizing the test score distribution for different classes.\n",
    "- Comparing ages across different regions."
   ]
  },
  {
   "cell_type": "code",
   "execution_count": 10,
   "id": "13e2e8a9-9e0e-46cc-a065-e3ec3c071845",
   "metadata": {},
   "outputs": [
    {
     "data": {
      "image/png": "[encoded data removed]",
      "text/plain": [
       "<Figure size 432x288 with 1 Axes>"
      ]
     },
     "metadata": {
      "needs_background": "light"
     },
     "output_type": "display_data"
    }
   ],
   "source": [
    "data = [1, 2, 3, 4, 5, 6, 7, 8, 9,15]\n",
    "data1 = [1, 2, 3, 4, 5, 6, 7, 8, 9,10, 12]\n",
    "plt.boxplot([data,data1])\n",
    "plt.title(\"Box Plot Example\")\n",
    "plt.show()"
   ]
  },
  {
   "cell_type": "code",
   "execution_count": 16,
   "id": "c3a5c392-dfa6-4b99-b2b7-fdd4aa6bba21",
   "metadata": {},
   "outputs": [
    {
     "data": {
      "image/png": "[encoded data removed]",
      "text/plain": [
       "<Figure size 432x288 with 1 Axes>"
      ]
     },
     "metadata": {
      "needs_background": "light"
     },
     "output_type": "display_data"
    }
   ],
   "source": [
    "data = [1, 2, 3, 4, 5, 6, 7, 8, 9]\n",
    "plt.boxplot(data)\n",
    "plt.title(\"Box Plot Example\")\n",
    "plt.show()"
   ]
  },
  {
   "cell_type": "code",
   "execution_count": 20,
   "id": "ccd26e26-68b0-4213-b3c8-cbc9c8dc37d5",
   "metadata": {},
   "outputs": [
    {
     "data": {
      "image/png": "[encoded data removed]",
      "text/plain": [
       "<Figure size 432x288 with 1 Axes>"
      ]
     },
     "metadata": {
      "needs_background": "light"
     },
     "output_type": "display_data"
    }
   ],
   "source": [
    "data = [1,2,3,4,5,10,11,12,13,14,15,16,17,18,19,20]\n",
    "plt.boxplot(data)\n",
    "plt.title(\"Box Plot Example\")\n",
    "plt.show()"
   ]
  },
  {
   "cell_type": "code",
   "execution_count": null,
   "id": "6107ec3c-4d5c-437d-9205-fd478c10ddf3",
   "metadata": {},
   "outputs": [],
   "source": [
    "data = [1,  6, 7, 8, 9,10,20]\n",
    "plt.boxplot(data)\n",
    "plt.title(\"Box Plot Example\")\n",
    "plt.show()"
   ]
  },
  {
   "cell_type": "code",
   "execution_count": null,
   "id": "a7b463ef-858d-47b0-9417-12b969c0b780",
   "metadata": {},
   "outputs": [],
   "source": [
    "# IQR=Q3−Q1\n",
    "# Lower Bound=Q1−1.5×IQR\n",
    "# Upper Bound=Q3+1.5×IQR"
   ]
  },
  {
   "cell_type": "code",
   "execution_count": 15,
   "id": "8d9e992f",
   "metadata": {},
   "outputs": [
    {
     "data": {
      "image/png": "[encoded data removed]",
      "text/plain": [
       "<Figure size 432x288 with 1 Axes>"
      ]
     },
     "metadata": {
      "needs_background": "light"
     },
     "output_type": "display_data"
    }
   ],
   "source": [
    " # Parameters of boxplot\n",
    "plt.boxplot(\n",
    "    data,                # x = input data\n",
    "    vert=True,           # Vertical box plot (False for horizontal)\n",
    "    meanline=False,      # Display mean as a line instead of a marker\n",
    "    showmeans=True,      # Show mean as a marker\n",
    "    \n",
    "    patch_artist=True,   # Fill the box with color\n",
    "    showfliers=True,     # Show outliers (False removes them)\n",
    "    showbox=True,        # Show the main box\n",
    "    showcaps=True,       # Show caps at the ends of whiskers\n",
    "    widths=0.5,         # Width of the box\n",
    "    boxprops={'facecolor': 'lightblue'},  # Properties of the box\n",
    "    medianprops={'color': 'red', 'linewidth': 2},  # Properties of the median line\n",
    "    whiskerprops={'linestyle': '--', 'color': 'green'},  # Properties of the whiskers\n",
    "    capprops={'color': 'blue', 'linewidth': 2},  # Properties of the caps\n",
    "    flierprops={'marker': 'o', 'color': 'purple', 'markersize': 5}  # Properties of outliers\n",
    ")\n",
    "\n",
    "plt.show()"
   ]
  },
  {
   "cell_type": "code",
   "execution_count": null,
   "id": "eb99985a-4de6-450b-90d7-4ca657c1388f",
   "metadata": {},
   "outputs": [],
   "source": []
  },
  {
   "cell_type": "markdown",
   "id": "3257adf3-b804-4618-8273-b80435c81106",
   "metadata": {},
   "source": [
    "### 8) Area Plot :  plt.fill_between() / plt.stackplot()\n",
    "- An Area Plot / Stacked Area Chart is a variation of a line plot where the area under the line is filled with color.\n",
    "#### When to Use:\n",
    "- Showing trends over time when comparing multiple variables.\n",
    "#### Data:\n",
    "- Typically used with time series or continuous data on the X-axis.\n",
    "- The Y-axis represents the magnitude of values (e.g., population, revenue, or frequency).\n",
    "#### What It Denotes:\n",
    "- Trends in data over a period.\n",
    "- Proportions of different categories in a stacked area chart.\n",
    "- Helps in identifying growth patterns, seasonal effects, or cumulative distributions.\n",
    "#### Example Use Case:\n",
    "- Visualizing company revenue growth across multiple products over time.\n",
    "- Tracking population changes in different countries over the years."
   ]
  },
  {
   "cell_type": "code",
   "execution_count": 21,
   "id": "fb04a9df-11e3-4ff5-999b-5d49843397d5",
   "metadata": {},
   "outputs": [],
   "source": [
    "months = np.arange(1, 13)  \n",
    "sales = [10, 15, 20, 18, 22, 25, 30, 28, 24, 22, 18, 14] "
   ]
  },
  {
   "cell_type": "code",
   "execution_count": 22,
   "id": "a57e9609-6d68-4aef-b2a6-2a153a03eb45",
   "metadata": {},
   "outputs": [
    {
     "data": {
      "text/plain": [
       "array([ 1,  2,  3,  4,  5,  6,  7,  8,  9, 10, 11, 12])"
      ]
     },
     "execution_count": 22,
     "metadata": {},
     "output_type": "execute_result"
    }
   ],
   "source": [
    "months"
   ]
  },
  {
   "cell_type": "code",
   "execution_count": 23,
   "id": "6b25043f-32f4-4a18-acc7-931937d7ca14",
   "metadata": {},
   "outputs": [
    {
     "data": {
      "text/plain": [
       "[10, 15, 20, 18, 22, 25, 30, 28, 24, 22, 18, 14]"
      ]
     },
     "execution_count": 23,
     "metadata": {},
     "output_type": "execute_result"
    }
   ],
   "source": [
    "sales"
   ]
  },
  {
   "cell_type": "code",
   "execution_count": 27,
   "id": "aad45101-27cc-48bf-9126-4ff16aad3a9c",
   "metadata": {},
   "outputs": [
    {
     "data": {
      "image/png": "[encoded data removed]",
      "text/plain": [
       "<Figure size 432x288 with 1 Axes>"
      ]
     },
     "metadata": {
      "needs_background": "light"
     },
     "output_type": "display_data"
    }
   ],
   "source": [
    "plt.fill_between( months,   #The x-axis represents time in months.\n",
    "                 sales,     #The y-axis represents sales in thousands.\n",
    "                 color=\"skyblue\",   # Fills the area with blue color\n",
    "                 alpha=0.5         # Transparency level (0=transparent, 1=solid)\n",
    "                )\n",
    "\n",
    "\n",
    "plt.title(\"Monthly Sales Trend\")\n",
    "plt.xlabel(\"Month\")\n",
    "plt.ylabel(\"Sales in thousands\")\n",
    "plt.xticks(months)  # xticks() is used to customize the x-axis tick marks\n",
    "# plt.yticks(sales)\n",
    "plt.grid(True)\n",
    "\n",
    "\n",
    "plt.show()"
   ]
  },
  {
   "cell_type": "code",
   "execution_count": 28,
   "id": "b0be6ca9-6061-4298-93a7-f2d53a021273",
   "metadata": {},
   "outputs": [
    {
     "data": {
      "image/png": "[encoded data removed]",
      "text/plain": [
       "<Figure size 432x288 with 1 Axes>"
      ]
     },
     "metadata": {
      "needs_background": "light"
     },
     "output_type": "display_data"
    }
   ],
   "source": [
    "\n",
    "product_A = [5, 7, 8, 10, 12, 15, 18, 20, 19, 17, 14, 10]\n",
    "product_B = [3, 5, 6, 8, 9, 11, 13, 15, 14, 12, 9, 7]\n",
    "product_C = [2, 4, 5, 6, 8, 9, 11, 12, 11, 10, 7, 5]\n",
    "\n",
    "\n",
    "plt.stackplot(months, product_A, product_B, product_C, labels=[\"Product A\", \"Product B\", \"Product C\"], colors=[\"red\", \"blue\", \"green\"], alpha=0.6)\n",
    "\n",
    "\n",
    "plt.title(\"Monthly Sales of Products\")\n",
    "plt.xlabel(\"Month\")\n",
    "plt.ylabel(\"Sales (in thousands)\")\n",
    "plt.legend(loc=\"upper left\")\n",
    "plt.xticks(months)  \n",
    "plt.grid(True)\n",
    "\n",
    "\n",
    "plt.show()\n"
   ]
  },
  {
   "cell_type": "code",
   "execution_count": null,
   "id": "fc4c5c72-2bd1-4d2e-9f50-d20868a55271",
   "metadata": {},
   "outputs": [],
   "source": [
    "34.4656\n",
    "d"
   ]
  }
 ],
 "metadata": {
  "kernelspec": {
   "display_name": "Python 3 (ipykernel)",
   "language": "python",
   "name": "python3"
  },
  "language_info": {
   "codemirror_mode": {
    "name": "ipython",
    "version": 3
   },
   "file_extension": ".py",
   "mimetype": "text/x-python",
   "name": "python",
   "nbconvert_exporter": "python",
   "pygments_lexer": "ipython3",
   "version": "3.9.7"
  }
 },
 "nbformat": 4,
 "nbformat_minor": 5
}
